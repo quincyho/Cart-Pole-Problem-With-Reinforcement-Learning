{
  "nbformat": 4,
  "nbformat_minor": 0,
  "metadata": {
    "colab": {
      "name": "cart_pole_problem_with_monte_carlo.ipynb",
      "provenance": [],
      "collapsed_sections": []
    },
    "kernelspec": {
      "name": "python3",
      "display_name": "Python 3"
    }
  },
  "cells": [
    {
      "cell_type": "code",
      "metadata": {
        "id": "1XDvssQd64Pf"
      },
      "source": [
        "!apt-get install -y xvfb python-opengl > /dev/null 2>&1"
      ],
      "execution_count": null,
      "outputs": []
    },
    {
      "cell_type": "code",
      "metadata": {
        "id": "F5esgX013vPe"
      },
      "source": [
        "!pip install gym pyvirtualdisplay > /dev/null 2>&1"
      ],
      "execution_count": null,
      "outputs": []
    },
    {
      "cell_type": "code",
      "metadata": {
        "id": "Qbi2xaFo31Sj"
      },
      "source": [
        "import gym\n",
        "import numpy as np\n",
        "import matplotlib.pyplot as plt\n",
        "from IPython import display as ipythondisplay"
      ],
      "execution_count": null,
      "outputs": []
    },
    {
      "cell_type": "code",
      "metadata": {
        "id": "FGqXqJxoAsHG",
        "colab": {
          "base_uri": "https://localhost:8080/"
        },
        "outputId": "c0c5cb3e-d0d7-4bd5-a626-8a426dce859a"
      },
      "source": [
        "from pyvirtualdisplay import Display\n",
        "display = Display(visible=0, size=(400, 300))\n",
        "display.start()"
      ],
      "execution_count": null,
      "outputs": [
        {
          "output_type": "execute_result",
          "data": {
            "text/plain": [
              "<pyvirtualdisplay.display.Display at 0x7fe5c0f06210>"
            ]
          },
          "metadata": {
            "tags": []
          },
          "execution_count": 4
        }
      ]
    },
    {
      "cell_type": "code",
      "metadata": {
        "id": "6L4YayzR4FYj",
        "colab": {
          "base_uri": "https://localhost:8080/",
          "height": 286
        },
        "outputId": "099afa6e-f9b3-44c0-e5b1-0b6e993e737d"
      },
      "source": [
        "env = gym.make(\"CartPole-v0\")\n",
        "env.reset()\n",
        "prev_screen = env.render(mode='rgb_array')\n",
        "plt.imshow(prev_screen)\n",
        "\n",
        "for i in range(50000):\n",
        "  action = env.action_space.sample()\n",
        "  print(\"step i\",i,\"action=\",action)\n",
        "  obs, reward, done, info = env.step(action)\n",
        "  print(\"obs=\",obs,\"reward=\",reward,\"done=\",done,\"info=\",info)\n",
        "  screen = env.render(mode='rgb_array')\n",
        "  \n",
        "  plt.imshow(screen)\n",
        "  ipythondisplay.clear_output(wait=True)\n",
        "  ipythondisplay.display(plt.gcf())\n",
        "\n",
        "  if done:\n",
        "    break\n",
        "    \n",
        "ipythondisplay.clear_output(wait=True)\n",
        "env.close()\n",
        "print(\"Iterations that were run:\",i)"
      ],
      "execution_count": null,
      "outputs": [
        {
          "output_type": "stream",
          "text": [
            "Iterations that were run: 27\n"
          ],
          "name": "stdout"
        },
        {
          "output_type": "display_data",
          "data": {
            "image/png": "[encoded data removed]",
            "text/plain": [
              "<Figure size 432x288 with 1 Axes>"
            ]
          },
          "metadata": {
            "tags": [],
            "needs_background": "light"
          }
        }
      ]
    },
    {
      "cell_type": "markdown",
      "metadata": {
        "id": "_GCtDHRdHCF8"
      },
      "source": [
        "### Off-policy Monte Carlo Control"
      ]
    },
    {
      "cell_type": "code",
      "metadata": {
        "id": "UELbC_ubHQBX"
      },
      "source": [
        "from collections import defaultdict"
      ],
      "execution_count": null,
      "outputs": []
    },
    {
      "cell_type": "code",
      "metadata": {
        "id": "-FWKLyr3p6-9"
      },
      "source": [
        "# Transform the continuous state into a discretized state\n",
        "# Reference: http://www.derongliu.org/adp/adp-cdrom/Barto1983.pdf\n",
        "def discretize_state(state):\n",
        "  state_discretized_vector = np.zeros(4)\n",
        "  \n",
        "  # Discretize x (position)\n",
        "  if abs(state[0]) <= 0.8:\n",
        "    state_discretized_vector[0] = 1\n",
        "  elif state[0] < -0.8:\n",
        "    state_discretized_vector[0] = 0\n",
        "  elif state[0] > 0.8:\n",
        "    state_discretized_vector[0] = 2\n",
        "\n",
        "  # Discretize x’ (velocity)\n",
        "  if abs(state[1]) <= 0.5:\n",
        "    state_discretized_vector[1] = 1\n",
        "  elif state[1] < -0.5:\n",
        "    state_discretized_vector[1] = 0\n",
        "  elif state[1] > 0.5:\n",
        "    state_discretized_vector[1] = 2\n",
        "\n",
        "  # Discretize theta (angle)\n",
        "  angle = 180/3.1428*state[2]\n",
        "  if -12 < angle <= -6:\n",
        "    state_discretized_vector[2] = 0\n",
        "  elif -6 < angle <= -1:\n",
        "    state_discretized_vector[2] = 1\n",
        "  elif -1 < angle <= 0:\n",
        "    state_discretized_vector[2] = 2\n",
        "  elif 0 < angle <= 1:\n",
        "    state_discretized_vector[2] = 3\n",
        "  elif 1 < angle <= 6:\n",
        "    state_discretized_vector[2] = 4\n",
        "  elif 6 < angle <= 12:\n",
        "    state_discretized_vector[2] = 5\n",
        "\n",
        "  # Discretize theta’ (angular velocity)\n",
        "  if abs(state[3]) <= 50:\n",
        "    state_discretized_vector[3] = 1\n",
        "  elif state[3] < -50:\n",
        "    state_discretized_vector[3] = 0\n",
        "  elif state[3] > 50:\n",
        "    state_discretized_vector[3] = 2\n",
        "  \n",
        "  state_discretized = int(state_discretized_vector[0]*54 + state_discretized_vector[1]*18 + state_discretized_vector[2]*3 + state_discretized_vector[3])\n",
        "\n",
        "  return state_discretized"
      ],
      "execution_count": null,
      "outputs": []
    },
    {
      "cell_type": "code",
      "metadata": {
        "id": "neb3fu1MNPfr"
      },
      "source": [
        "# Obtain an action based on the policy\n",
        "def select_action_from_policy(state, policy):\n",
        "  return np.random.choice(action_space, p=[policy[(state, a)] for a in action_space])"
      ],
      "execution_count": null,
      "outputs": []
    },
    {
      "cell_type": "code",
      "metadata": {
        "id": "B5HghILkKnBL"
      },
      "source": [
        "# Define a function to generate the episode\n",
        "def generate_episode(policy):\n",
        "  sequence = []\n",
        "  done = True\n",
        "  while True:\n",
        "    if done:\n",
        "      state, reward, done = env.reset(), None, False\n",
        "      state = discretize_state(state)\n",
        "    else:\n",
        "      state, reward, done, _ = env.step(action)\n",
        "      state = discretize_state(state)\n",
        "    action = select_action_from_policy(state, policy)\n",
        "    sequence.append((reward, state, action, done)) \n",
        "    if done:\n",
        "      break\n",
        "\n",
        "  return sequence, len(sequence)-1 "
      ],
      "execution_count": null,
      "outputs": []
    },
    {
      "cell_type": "code",
      "metadata": {
        "id": "aqJsEQzwkhe-"
      },
      "source": [
        "# Choose the best action with tie-breaking\n",
        "def argmax_tie_break(arr):\n",
        "  return np.random.choice(np.flatnonzero(arr == np.max(arr)))"
      ],
      "execution_count": null,
      "outputs": []
    },
    {
      "cell_type": "code",
      "metadata": {
        "id": "WjwghqBQsjcI"
      },
      "source": [
        "# Define the off-policy Monte Carlo control\n",
        "def mc_control_off_policy(episodes, gamma):\n",
        "  Q = defaultdict(float)\n",
        "  C = defaultdict(int)\n",
        "  pi = defaultdict(int)\n",
        "\n",
        "  for episode in range(episodes):\n",
        "    b = defaultdict(lambda: 1 / num_states)\n",
        "    sequence, T = generate_episode(b)\n",
        "    G = 0\n",
        "    W = 1\n",
        "    for t in range(T-1, -1, -1):\n",
        "      state_t, action_t = sequence[t][1], sequence[t][2]\n",
        "      reward_t1 = sequence[t+1][0]\n",
        "      G = gamma * G + reward_t1\n",
        "      C[(state_t, action_t)] = C[(state_t, action_t)] + W\n",
        "      Q[(state_t, action_t)] = Q[(state_t, action_t)] + (W / C[(state_t, action_t)]) * (G - Q[(state_t, action_t)])\n",
        "      pi[state_t] = argmax_tie_break([Q[(state_t, action_t)] for a in range(num_states)])\n",
        "      if action_t != pi[state_t]:\n",
        "        break\n",
        "      W = W / b[(state_t, action_t)]\n",
        "  \n",
        "  return pi"
      ],
      "execution_count": null,
      "outputs": []
    },
    {
      "cell_type": "code",
      "metadata": {
        "id": "CClgkpZoJmwh"
      },
      "source": [
        "# Define the number of states and the action-space\n",
        "num_states = 2\n",
        "action_space = [0,1]"
      ],
      "execution_count": null,
      "outputs": []
    },
    {
      "cell_type": "code",
      "metadata": {
        "id": "Mx9BJSr3_uUx"
      },
      "source": [
        "# Obtain the policy from the off-policy Monte Carlo control, by using 1500 episodes and a discount value of 0.94\n",
        "pi = mc_control_off_policy(1500, 0.94)"
      ],
      "execution_count": null,
      "outputs": []
    },
    {
      "cell_type": "code",
      "metadata": {
        "colab": {
          "base_uri": "https://localhost:8080/",
          "height": 286
        },
        "id": "SbeYydQK5scH",
        "outputId": "5ffcd069-d930-4929-f3a8-63d761e843f6"
      },
      "source": [
        "env = gym.make(\"CartPole-v0\")\n",
        "state = env.reset()\n",
        "state = discretize_state(state)\n",
        "prev_screen = env.render(mode='rgb_array')\n",
        "plt.imshow(prev_screen)\n",
        "\n",
        "for i in range(50000):\n",
        "  # Choose \n",
        "  action = pi[state]\n",
        "  print(\"step i\",i,\"action=\",action)\n",
        "  state, reward, done, info = env.step(action)\n",
        "  state = discretize_state(state)\n",
        "  print(\"state=\",state,\"reward=\",reward,\"done=\",done,\"info=\",info)\n",
        "  screen = env.render(mode='rgb_array')\n",
        "  \n",
        "  plt.imshow(screen)\n",
        "  ipythondisplay.clear_output(wait=True)\n",
        "  ipythondisplay.display(plt.gcf())\n",
        "\n",
        "  if done:\n",
        "    break\n",
        "    \n",
        "ipythondisplay.clear_output(wait=True)\n",
        "env.close()\n",
        "print(\"Iterations that were run:\",i)"
      ],
      "execution_count": null,
      "outputs": [
        {
          "output_type": "stream",
          "text": [
            "Iterations that were run: 131\n"
          ],
          "name": "stdout"
        },
        {
          "output_type": "display_data",
          "data": {
            "image/png": "[encoded data removed]",
            "text/plain": [
              "<Figure size 432x288 with 1 Axes>"
            ]
          },
          "metadata": {
            "tags": [],
            "needs_background": "light"
          }
        }
      ]
    },
    {
      "cell_type": "markdown",
      "metadata": {
        "id": "Ybr9GI48gEgf"
      },
      "source": [
        "The number of iterations was increased from 27 to 131."
      ]
    }
  ]
}